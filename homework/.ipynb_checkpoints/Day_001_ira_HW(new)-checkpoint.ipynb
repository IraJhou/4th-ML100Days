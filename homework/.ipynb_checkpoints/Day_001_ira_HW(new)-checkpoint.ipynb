{
 "cells": [
  {
   "cell_type": "code",
   "execution_count": 12,
   "metadata": {},
   "outputs": [],
   "source": [
    "# NumPy是Python語言的一個擴充程式庫。支援高階大量的維度陣列與矩陣運算，此外也針對陣列運算提供大量的數學函式函式庫。\n",
    "import numpy as np\n",
    "\n",
    "# matplotlib是python上的一個2D繪相簿，它可以在誇平臺上邊出很多高質量的影象。綜旨就是讓簡單的事變得更簡單，讓複雜的事變得可能。我們可以用matplotlib生成 繪圖、直方圖、功率譜、柱狀圖、誤差圖、散點圖等 。\n",
    "import matplotlib.pyplot as plt \n"
   ]
  },
  {
   "cell_type": "code",
   "execution_count": 13,
   "metadata": {},
   "outputs": [],
   "source": [
    "def mean_absolute_error(y, yp):\n",
    "    \"\"\"\n",
    "    計算 MAE\n",
    "    Args:\n",
    "        - y: 實際值\n",
    "        - yp: 預測值\n",
    "    Return:\n",
    "        - mae: MAE\n",
    "    \"\"\"\n",
    "    mae = MAE = sum(abs(y-yp))/ len(y)\n",
    "    return mae"
   ]
  },
  {
   "cell_type": "code",
   "execution_count": 14,
   "metadata": {},
   "outputs": [],
   "source": [
    "# 定義 mean_squared_error 這個函數, 計算並傳回 MSE\n",
    "def mean_squared_error(y,yp): \n",
    "    \"\"\"\n",
    "    計算 MSE\n",
    "    Args:\n",
    "        - y: 實際值\n",
    "        - yp: 預測值\n",
    "    Return:\n",
    "        - mse: MSE\n",
    "    由公式:\n",
    "    MSE = 取總和 { (y-yp)^2 } 除以 y 個數\n",
    "    \"\"\"    \n",
    "    mse = MSE = sum((y-yp)**2)/ len(y)\n",
    "    return MSE"
   ]
  },
  {
   "cell_type": "code",
   "execution_count": 15,
   "metadata": {},
   "outputs": [
    {
     "data": {
      "text/plain": [
       "'\\n    # 注意 :::::::   縮排不一至會導致phthon出現語法錯誤\\n    Python學習（二）-常見問題（3）IndentationError: unindent does not match any outer indentation level\\n    以下程式碼最後一行語句縮排數的空格數不一致，會導致執行錯誤：\\n    cat b.py \\n    #!/usr/bin/python\\n    if True:\\n   print (\"Answer\")\\n   print (\"Ture\")\\n    else:\\n   print (\"Answer\")\\n  print (\"False\")     ##縮排不一致會導致致命錯誤\\n    '"
      ]
     },
     "execution_count": 15,
     "metadata": {},
     "output_type": "execute_result"
    }
   ],
   "source": [
    "     \"\"\"\n",
    "    # 注意 :::::::   縮排不一至會導致phthon出現語法錯誤\n",
    "    Python學習（二）-常見問題（3）IndentationError: unindent does not match any outer indentation level\n",
    "    以下程式碼最後一行語句縮排數的空格數不一致，會導致執行錯誤：\n",
    "    cat b.py \n",
    "    #!/usr/bin/python\n",
    "    if True:\n",
    "        print (\"Answer\")\n",
    "        print (\"Ture\")\n",
    "    else:\n",
    "        print (\"Answer\")\n",
    "       print (\"False\")     ##縮排不一致會導致致命錯誤\n",
    "    \"\"\""
   ]
  },
  {
   "cell_type": "code",
   "execution_count": 16,
   "metadata": {},
   "outputs": [
    {
     "data": {
      "image/png": "[encoded data removed]",
      "text/plain": [
       "<Figure size 432x288 with 1 Axes>"
      ]
     },
     "metadata": {
      "needs_background": "light"
     },
     "output_type": "display_data"
    }
   ],
   "source": [
    "# 與範例相同, 不另外解說\n",
    "w = 3\n",
    "b = 0.5\n",
    "x_lin = np.linspace(0, 100, 101)\n",
    "y = (x_lin + np.random.randn(101) * 5) * w + b\n",
    "\n",
    "plt.plot(x_lin, y, 'b.', label = 'data points')\n",
    "plt.title(\"Assume we have data points\")\n",
    "plt.legend(loc = 2)\n",
    "plt.show()"
   ]
  },
  {
   "cell_type": "code",
   "execution_count": 17,
   "metadata": {},
   "outputs": [
    {
     "data": {
      "image/png": "[encoded data removed]",
      "text/plain": [
       "<Figure size 432x288 with 1 Axes>"
      ]
     },
     "metadata": {
      "needs_background": "light"
     },
     "output_type": "display_data"
    }
   ],
   "source": [
    "# 與範例相同, 不另外解說\n",
    "y_hat = x_lin * w + b\n",
    "plt.plot(x_lin, y, 'b.', label = 'data')\n",
    "plt.plot(x_lin, y_hat, 'r-', label = 'prediction')\n",
    "plt.title(\"Assume we have data points (And the prediction)\")\n",
    "plt.legend(loc = 2)\n",
    "plt.show()"
   ]
  },
  {
   "cell_type": "code",
   "execution_count": 18,
   "metadata": {},
   "outputs": [
    {
     "name": "stdout",
     "output_type": "stream",
     "text": [
      "The Mean squared error is 302.923\n",
      "The Mean absolute error is 13.648\n"
     ]
    }
   ],
   "source": [
    "# 執行 Function, 確認有沒有正常執行\n",
    "MSE = mean_squared_error(y, y_hat)#自行寫的程式\n",
    "MAE = mean_absolute_error(y, y_hat)  \n",
    "print(\"The Mean squared error is %.3f\" % (MSE))#自行寫的程式\n",
    "print(\"The Mean absolute error is %.3f\" % (MAE)) "
   ]
  },
  {
   "cell_type": "code",
   "execution_count": 19,
   "metadata": {},
   "outputs": [
    {
     "data": {
      "text/plain": [
       "'\\nHW2 \\n1. 你選的這組資料為何重要:\\nAns : 選擇題目: 2019年冠狀病毒數據集（2020年1月-2月）\\n           2019 Coronavirus dataset (January - February 2020)\\n  重要性: 新冠狀病毒影響全球，RNA序列持續突變，無法像是DNA序列進行有效的藥物或疫苗開發。\\n\\n2. 資料從何而來 (tips: 譬如提供者是誰、以什麼方式蒐集)\\nAns : 提供者 : 蘇ren : https://www.kaggle.com/brendaso \\n  蒐集資料來源: 約翰霍普金斯大學收集的2019-nCoV數據集的聚合版本。\\n  \\n3. 蒐集而來的資料型態為何\\nAns: 結構化 :\\u3000表格式。\\u3000包含：\\u3000省/州、國家、最後更新日期、已確認、可疑、已恢復、死亡人數\\n\\n4. 這組資料想解決的問題如何評估\\nAns: 流行病的起源，並以公開的數據方式，包含新的故事和政府的回應資訊，供給醫療人員或數據科學家進行分析使用。\\n'"
      ]
     },
     "execution_count": 19,
     "metadata": {},
     "output_type": "execute_result"
    }
   ],
   "source": [
    "    \"\"\"\n",
    "    HW2 \n",
    "    1. 你選的這組資料為何重要:\n",
    "    Ans : 選擇題目: 2019年冠狀病毒數據集（2020年1月-2月）\n",
    "               2019 Coronavirus dataset (January - February 2020)\n",
    "      重要性: 新冠狀病毒影響全球，RNA序列持續突變，無法像是DNA序列進行有效的藥物或疫苗開發。\n",
    "\n",
    "    2. 資料從何而來 (tips: 譬如提供者是誰、以什麼方式蒐集)\n",
    "    Ans : 提供者 : 蘇ren : https://www.kaggle.com/brendaso \n",
    "      蒐集資料來源: 約翰霍普金斯大學收集的2019-nCoV數據集的聚合版本。\n",
    "      \n",
    "    3. 蒐集而來的資料型態為何\n",
    "    Ans: 結構化 :　表格式。　包含：　省/州、國家、最後更新日期、已確認、可疑、已恢復、死亡人數\n",
    "\n",
    "    4. 這組資料想解決的問題如何評估\n",
    "    Ans: 流行病的起源，並以公開的數據方式，包含新的故事和政府的回應資訊，供給醫療人員或數據科學家進行分析使用。\n",
    "    \"\"\""
   ]
  },
  {
   "cell_type": "code",
   "execution_count": 20,
   "metadata": {},
   "outputs": [
    {
     "data": {
      "text/plain": [
       "'\\nHW3\\n\\n\\n\\n'"
      ]
     },
     "execution_count": 20,
     "metadata": {},
     "output_type": "execute_result"
    }
   ],
   "source": [
    "    \"\"\"\n",
    "    HW3\n",
    "    作業3：申論題目可直接將答案回覆在HW檔案裡面，Jupyter notebook可直接編輯文字。\n",
    "\n",
    "    想像你經營一個自由載客車隊，你希望能透過數據分析以提升業績，請你思考並描述你如何規劃整體的分析/解決方案：\n",
    "    1. 核心問題為何 (tips：如何定義 「提升業績 & 你的假設」)\n",
    "    Ans: 企業獲利 --> 自由載客車隊 --> 乘載客人 --> 乘坐數 --> 多 = 業績高 = 獲利高 \n",
    "\n",
    "    2. 資料從何而來 (tips：哪些資料可能會對你想問的問題產生影響 & 資料如何蒐集)\n",
    "    Ans: 乘客使用的呼叫乘車APP(後台蒐集)、乘車招呼站的搭乘乘客數(現場蒐集)\n",
    "     \n",
    "    3. 蒐集而來的資料型態為何\n",
    "    Ans: 結構化： 資料 : 姓名、性別、年齡、職位、乘車地點、搭乘目的、搭乘時間、乘車距離、總乘車時間\n",
    "\n",
    "    4. 你要回答的問題，其如何評估 (tips：你的假設如何驗證)\n",
    "    Ans: 驗證何種職位或旅遊目的的人，為容易搭乘車隊的有效客戶，以及在那些時段與地點是容易出現在客的需求度。\n",
    "    \"\"\""
   ]
  },
  {
   "cell_type": "code",
   "execution_count": null,
   "metadata": {},
   "outputs": [],
   "source": []
  }
 ],
 "metadata": {
  "kernelspec": {
   "display_name": "Python 3",
   "language": "python",
   "name": "python3"
  },
  "language_info": {
   "codemirror_mode": {
    "name": "ipython",
    "version": 3
   },
   "file_extension": ".py",
   "mimetype": "text/x-python",
   "name": "python",
   "nbconvert_exporter": "python",
   "pygments_lexer": "ipython3",
   "version": "3.7.4"
  }
 },
 "nbformat": 4,
 "nbformat_minor": 2
}
