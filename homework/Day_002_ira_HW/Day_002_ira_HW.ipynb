{
 "cells": [
  {
   "cell_type": "markdown",
   "metadata": {},
   "source": [
    "## [作業目標]\n",
    "了解機器學習適合應用的領域與範疇。"
   ]
  },
  {
   "cell_type": "markdown",
   "metadata": {},
   "source": [
    "## [作業重點]\n",
    "透過瞭解機器學習的運作方式，找出非常適用機器學習應用的領域及其原因"
   ]
  },
  {
   "cell_type": "markdown",
   "metadata": {},
   "source": [
    "## 作業\n",
    "請找出一個你認為機器學習可以發光發熱的領域並闡述原因? "
   ]
  },
  {
   "cell_type": "code",
   "execution_count": null,
   "metadata": {},
   "outputs": [],
   "source": [
    "## ANS\n",
    "老人照護領域，台灣將在2026年邁入「超高齡社會（super-aged，高齡人口比例超過20%），甚至遠大於日本，屆時1.2人及需要照顧1人。（2018年每5位生產者需負擔1位老年人口）\n",
    "像是光纖智慧薄墊，即可及時監診安養老人的呼吸心跳，去年楊淑貞申請參加新竹縣政府所推的SBIR計畫，在已有的智慧照護系統上持續結合機器學習和大數據，走向人工智慧的方向，將建立出一套對臥床者最佳的翻身、拍背等照護「黃金模式」，今年6月就將正式發表。"
   ]
  }
 ],
 "metadata": {
  "kernelspec": {
   "display_name": "Python 3",
   "language": "python",
   "name": "python3"
  },
  "language_info": {
   "codemirror_mode": {
    "name": "ipython",
    "version": 3
   },
   "file_extension": ".py",
   "mimetype": "text/x-python",
   "name": "python",
   "nbconvert_exporter": "python",
   "pygments_lexer": "ipython3",
   "version": "3.7.4"
  }
 },
 "nbformat": 4,
 "nbformat_minor": 2
}
